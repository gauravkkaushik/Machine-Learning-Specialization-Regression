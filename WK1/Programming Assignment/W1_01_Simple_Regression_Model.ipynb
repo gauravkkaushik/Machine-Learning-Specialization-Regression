{
 "metadata": {
  "language_info": {
   "codemirror_mode": {
    "name": "ipython",
    "version": 3
   },
   "file_extension": ".py",
   "mimetype": "text/x-python",
   "name": "python",
   "nbconvert_exporter": "python",
   "pygments_lexer": "ipython3",
   "version": "3.8.5-final"
  },
  "orig_nbformat": 2,
  "kernelspec": {
   "name": "python361064bitnwtrainingconda74d47481c05b4b65b55e5e7fa426d0c3",
   "display_name": "Python 3.6.10 64-bit ('nw_training': conda)",
   "language": "python"
  }
 },
 "nbformat": 4,
 "nbformat_minor": 2,
 "cells": [
  {
   "source": [
    "### Import Libraries"
   ],
   "cell_type": "markdown",
   "metadata": {}
  },
  {
   "cell_type": "code",
   "execution_count": 3,
   "metadata": {},
   "outputs": [],
   "source": [
    "import pandas as pd\n",
    "import numpy as np"
   ]
  },
  {
   "source": [
    "#### Import dataset"
   ],
   "cell_type": "markdown",
   "metadata": {}
  },
  {
   "cell_type": "code",
   "execution_count": 7,
   "metadata": {},
   "outputs": [],
   "source": [
    "dtype_dict = {'bathrooms':float, 'waterfront':int, 'sqft_above':int, 'sqft_living15':float, 'grade':int, 'yr_renovated':int, 'price':float, 'bedrooms':float, 'zipcode':str, 'long':float, 'sqft_lot15':float, 'sqft_living':float, 'floors':str, 'condition':int, 'lat':float, 'date':str, 'sqft_basement':int, 'yr_built':int, 'id':str, 'sqft_lot':int, 'view':int}\n",
    "\n",
    "house_data = pd.read_csv(filepath_or_buffer= './data/kc_house_data.csv', dtype = dtype_dict)  \n",
    "train_data = pd.read_csv('./data/kc_house_train_data.csv', dtype = dtype_dict)  \n",
    "test_data = pd.read_csv('./data/kc_house_test_data.csv', dtype = dtype_dict)  "
   ]
  },
  {
   "cell_type": "code",
   "execution_count": 9,
   "metadata": {},
   "outputs": [
    {
     "output_type": "stream",
     "name": "stdout",
     "text": [
      "<class 'pandas.core.frame.DataFrame'>\nRangeIndex: 21613 entries, 0 to 21612\nData columns (total 21 columns):\n #   Column         Non-Null Count  Dtype  \n---  ------         --------------  -----  \n 0   id             21613 non-null  object \n 1   date           21613 non-null  object \n 2   price          21613 non-null  float64\n 3   bedrooms       21613 non-null  float64\n 4   bathrooms      21613 non-null  float64\n 5   sqft_living    21613 non-null  float64\n 6   sqft_lot       21613 non-null  int32  \n 7   floors         21613 non-null  object \n 8   waterfront     21613 non-null  int32  \n 9   view           21613 non-null  int32  \n 10  condition      21613 non-null  int32  \n 11  grade          21613 non-null  int32  \n 12  sqft_above     21613 non-null  int32  \n 13  sqft_basement  21613 non-null  int32  \n 14  yr_built       21613 non-null  int32  \n 15  yr_renovated   21613 non-null  int32  \n 16  zipcode        21613 non-null  object \n 17  lat            21613 non-null  float64\n 18  long           21613 non-null  float64\n 19  sqft_living15  21613 non-null  float64\n 20  sqft_lot15     21613 non-null  float64\ndtypes: float64(8), int32(9), object(4)\nmemory usage: 2.7+ MB\n"
     ]
    }
   ],
   "source": [
    "house_data.info(verbose = True)"
   ]
  },
  {
   "cell_type": "code",
   "execution_count": 10,
   "metadata": {},
   "outputs": [
    {
     "output_type": "stream",
     "name": "stdout",
     "text": [
      "<class 'pandas.core.frame.DataFrame'>\nRangeIndex: 17384 entries, 0 to 17383\nData columns (total 21 columns):\n #   Column         Non-Null Count  Dtype  \n---  ------         --------------  -----  \n 0   id             17384 non-null  object \n 1   date           17384 non-null  object \n 2   price          17384 non-null  float64\n 3   bedrooms       17384 non-null  float64\n 4   bathrooms      17384 non-null  float64\n 5   sqft_living    17384 non-null  float64\n 6   sqft_lot       17384 non-null  int32  \n 7   floors         17384 non-null  object \n 8   waterfront     17384 non-null  int32  \n 9   view           17384 non-null  int32  \n 10  condition      17384 non-null  int32  \n 11  grade          17384 non-null  int32  \n 12  sqft_above     17384 non-null  int32  \n 13  sqft_basement  17384 non-null  int32  \n 14  yr_built       17384 non-null  int32  \n 15  yr_renovated   17384 non-null  int32  \n 16  zipcode        17384 non-null  object \n 17  lat            17384 non-null  float64\n 18  long           17384 non-null  float64\n 19  sqft_living15  17384 non-null  float64\n 20  sqft_lot15     17384 non-null  float64\ndtypes: float64(8), int32(9), object(4)\nmemory usage: 2.2+ MB\n"
     ]
    }
   ],
   "source": [
    "train_data.info(verbose = True)"
   ]
  },
  {
   "cell_type": "code",
   "execution_count": 11,
   "metadata": {},
   "outputs": [
    {
     "output_type": "stream",
     "name": "stdout",
     "text": [
      "<class 'pandas.core.frame.DataFrame'>\nRangeIndex: 4229 entries, 0 to 4228\nData columns (total 21 columns):\n #   Column         Non-Null Count  Dtype  \n---  ------         --------------  -----  \n 0   id             4229 non-null   object \n 1   date           4229 non-null   object \n 2   price          4229 non-null   float64\n 3   bedrooms       4229 non-null   float64\n 4   bathrooms      4229 non-null   float64\n 5   sqft_living    4229 non-null   float64\n 6   sqft_lot       4229 non-null   int32  \n 7   floors         4229 non-null   object \n 8   waterfront     4229 non-null   int32  \n 9   view           4229 non-null   int32  \n 10  condition      4229 non-null   int32  \n 11  grade          4229 non-null   int32  \n 12  sqft_above     4229 non-null   int32  \n 13  sqft_basement  4229 non-null   int32  \n 14  yr_built       4229 non-null   int32  \n 15  yr_renovated   4229 non-null   int32  \n 16  zipcode        4229 non-null   object \n 17  lat            4229 non-null   float64\n 18  long           4229 non-null   float64\n 19  sqft_living15  4229 non-null   float64\n 20  sqft_lot15     4229 non-null   float64\ndtypes: float64(8), int32(9), object(4)\nmemory usage: 545.3+ KB\n"
     ]
    }
   ],
   "source": [
    "test_data.info(verbose = True)"
   ]
  }
 ]
}