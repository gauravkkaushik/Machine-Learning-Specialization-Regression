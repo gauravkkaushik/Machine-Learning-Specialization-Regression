{
 "metadata": {
  "language_info": {
   "codemirror_mode": {
    "name": "ipython",
    "version": 3
   },
   "file_extension": ".py",
   "mimetype": "text/x-python",
   "name": "python",
   "nbconvert_exporter": "python",
   "pygments_lexer": "ipython3",
   "version": "3.8.5-final"
  },
  "orig_nbformat": 2,
  "kernelspec": {
   "name": "python361064bitnwtrainingconda74d47481c05b4b65b55e5e7fa426d0c3",
   "display_name": "Python 3.6.10 64-bit ('nw_training': conda)",
   "language": "python"
  }
 },
 "nbformat": 4,
 "nbformat_minor": 2,
 "cells": [
  {
   "source": [
    "### Import Libraries"
   ],
   "cell_type": "markdown",
   "metadata": {}
  },
  {
   "cell_type": "code",
   "execution_count": 18,
   "metadata": {},
   "outputs": [],
   "source": [
    "import pandas as pd\n",
    "import numpy as np"
   ]
  },
  {
   "source": [
    "#### Import dataset\n",
    "\n",
    "For those students not using Turi Create please download the training and testing data csv files."
   ],
   "cell_type": "markdown",
   "metadata": {}
  },
  {
   "cell_type": "code",
   "execution_count": 19,
   "metadata": {},
   "outputs": [],
   "source": [
    "dtype_dict = {'bathrooms':float, 'waterfront':int, 'sqft_above':int, 'sqft_living15':float, 'grade':int, 'yr_renovated':int, 'price':float, 'bedrooms':float, 'zipcode':str, 'long':float, 'sqft_lot15':float, 'sqft_living':float, 'floors':str, 'condition':int, 'lat':float, 'date':str, 'sqft_basement':int, 'yr_built':int, 'id':str, 'sqft_lot':int, 'view':int}\n",
    "\n",
    "house_data = pd.read_csv(filepath_or_buffer= './data/kc_house_data.csv', dtype = dtype_dict)  \n",
    "train_data = pd.read_csv('./data/kc_house_train_data.csv', dtype = dtype_dict)  \n",
    "test_data = pd.read_csv('./data/kc_house_test_data.csv', dtype = dtype_dict)  "
   ]
  },
  {
   "source": [
    "3. Write a generic function that accepts a column of data (e.g, an SArray) ‘input_feature’ and another column ‘output’ and returns the Simple Linear Regression parameters ‘intercept’ and ‘slope’.\n",
    "\n",
    "Use the closed form solution from lecture to calculate the slope and intercept. e.g. in python:\\\n",
    "\n",
    "We want the line that “best fits” this data set as measured by residual sum of squares -- the simple linear regression cost. We have a closed form solution that involves the following terms:\n",
    "\n",
    "1. The number of data points (N)\n",
    "2. The sum (or mean) of the Ys\n",
    "3. The sum (or mean) of the Xs\n",
    "4. The sum (or mean) of the product of the Xs and the Ys\n",
    "5. The sum (or mean) of the Xs squared\n",
    "\n",
    "\n",
    "Then once we have calculated all of these terms, we can use the formulas to compute the slope and intercept. Recall that we first solve for the slope and then we use the value of the slope to solve for the intercept.  The formula for the slope is a fraction with:\n",
    "\n",
    "- numerator = (sum of X*Y) - (1/N)*((sum of X) * (sum of Y))\n",
    "- denominator = (sum of X^2) - (1/N)*((sum of X) * (sum of X))\n",
    "\n",
    "Note that you can divide both the numerator and denominator by N (which doesn’t change the answer!) to get:\n",
    "- numerator = (mean of X \\* Y) - (mean of X)*(mean of Y)\n",
    "- denominator = (mean of X^2) - (mean of X)*(mean of X)"
   ],
   "cell_type": "markdown",
   "metadata": {}
  },
  {
   "cell_type": "code",
   "execution_count": 23,
   "metadata": {},
   "outputs": [],
   "source": [
    "# numerator = (mean of X * Y) - (mean of X)*(mean of Y)\n",
    "# denominator = (mean of X^2) - (mean of X)*(mean of X)\n",
    "# slope = numerator / denominator\n",
    "# intercept = (mean of Y) - slope * (mean of X)\n",
    "\n",
    "def simple_linear_regression(input_feature, output):\n",
    "    numerator=(input_feature*output).sum()-(input_feature.sum())*(output.sum())/len(output)\n",
    "    denominator=((input_feature**2).sum())-(input_feature.sum())*(input_feature.sum())/len(output)\n",
    "    slope=numerator/denominator\n",
    "    intercept=(output.mean())-slope*(input_feature.mean())\n",
    "    return intercept,slope\n"
   ]
  },
  {
   "cell_type": "code",
   "execution_count": 24,
   "metadata": {},
   "outputs": [],
   "source": [
    "sqft_intercept, sqft_slope = simple_linear_regression(train_data['sqft_living'],train_data['price'])\n",
    "bed_intercept, bed_slope = simple_linear_regression(train_data['bedrooms'],train_data['price'])"
   ]
  },
  {
   "source": [
    "4. Use your function to calculate the estimated slope and intercept on the training data to predict ‘price’ given ‘sqft_living’.\n",
    "\n",
    "save the value of the slope and intercept for later (you might want to call them e.g. squarfeet_slope, and squarefeet_intercept)"
   ],
   "cell_type": "markdown",
   "metadata": {}
  },
  {
   "source": [
    "input_feature = train_data['sqft_living']\n",
    "output = train_data['price']"
   ],
   "cell_type": "code",
   "metadata": {},
   "execution_count": 25,
   "outputs": []
  },
  {
   "source": [
    "intercept_train, slope_train = simple_linear_regression(input_feature, output)"
   ],
   "cell_type": "code",
   "metadata": {},
   "execution_count": 26,
   "outputs": []
  },
  {
   "source": [
    "5. Write a function that accepts a column of data ‘input_feature’, the ‘slope’, and the ‘intercept’ you learned, and returns an a column of predictions ‘predicted_output’ for each entry in the input column. e.g. in python:"
   ],
   "cell_type": "markdown",
   "metadata": {}
  },
  {
   "cell_type": "code",
   "execution_count": 27,
   "metadata": {},
   "outputs": [],
   "source": [
    "def get_regression_predictions(input_feature, intercept, slope):\n",
    "    predicted_output = slope * input_feature + intercept\n",
    "    return(predicted_output)"
   ]
  },
  {
   "source": [
    "6. Quiz Question: Using your Slope and Intercept from (4), What is the predicted price for a house with 2650 sqft?"
   ],
   "cell_type": "markdown",
   "metadata": {}
  },
  {
   "cell_type": "code",
   "execution_count": 28,
   "metadata": {},
   "outputs": [
    {
     "output_type": "stream",
     "name": "stdout",
     "text": [
      "700074.8459475137\n"
     ]
    }
   ],
   "source": [
    "input_feature = 2650\n",
    "print(get_regression_predictions(2650, intercept_train, slope_train))"
   ]
  },
  {
   "source": [
    "7. Write a function that accepts column of data: ‘input_feature’, and ‘output’ and the regression parameters ‘slope’ and ‘intercept’  and outputs the Residual Sum of Squares (RSS). e.g. in python:"
   ],
   "cell_type": "markdown",
   "metadata": {}
  },
  {
   "cell_type": "code",
   "execution_count": 31,
   "metadata": {},
   "outputs": [],
   "source": [
    "def get_residual_sum_of_squares(input_feature, output, intercept,slope):\n",
    "    RSS = ((output - (intercept + slope * input_feature))**2).sum(axis = 0)\n",
    "    return(RSS)"
   ]
  },
  {
   "source": [
    "8. Quiz Question: According to this function and the slope and intercept from (4) What is the RSS for the simple linear regression using squarefeet to predict prices on TRAINING data?"
   ],
   "cell_type": "markdown",
   "metadata": {}
  },
  {
   "cell_type": "code",
   "execution_count": 43,
   "metadata": {},
   "outputs": [],
   "source": [
    "sqftrss = get_residual_sum_of_squares(train_data['sqft_living'], train_data['price'], intercept_train, slope_train)\n",
    "\n",
    "bedrss = get_residual_sum_of_squares(train_data['bedrooms'], train_data['price'], intercept_train, slope_train)"
   ]
  },
  {
   "cell_type": "code",
   "execution_count": 44,
   "metadata": {},
   "outputs": [
    {
     "output_type": "execute_result",
     "data": {
      "text/plain": [
       "(1201918354177283.0, 8334814087871522.0)"
      ]
     },
     "metadata": {},
     "execution_count": 44
    }
   ],
   "source": [
    "sqftrss, bedrss"
   ]
  },
  {
   "source": [
    "9. Note that although we estimated the regression slope and intercept in order to predict the output from the input, since this is a simple linear relationship with only two variables we can invert the linear function to estimate the input given the output!\n",
    "\n",
    "Write a function that accept a column of data:‘output’ and the regression parameters ‘slope’ and ‘intercept’ and outputs the column of data: ‘estimated_input’. Do this by solving the linear function output = intercept + slope*input for the ‘input’ variable (i.e. ‘input’ should be on one side of the equals sign by itself). e.g. in python"
   ],
   "cell_type": "markdown",
   "metadata": {}
  },
  {
   "cell_type": "code",
   "execution_count": 13,
   "metadata": {},
   "outputs": [],
   "source": [
    "def inverse_regression_predictions(output, intercept, slope):\n",
    "    estimated_input = (output - intercept)/slope\n",
    "    return(estimated_input)"
   ]
  },
  {
   "source": [
    "10. Quiz Question: According to this function and the regression slope and intercept from (3) what is the estimated square-feet for a house costing $800,000?"
   ],
   "cell_type": "markdown",
   "metadata": {}
  },
  {
   "cell_type": "code",
   "execution_count": 33,
   "metadata": {},
   "outputs": [
    {
     "output_type": "stream",
     "name": "stdout",
     "text": [
      "3004.3962451522766\n"
     ]
    }
   ],
   "source": [
    "output = 800000\n",
    "print(inverse_regression_predictions(output,intercept_train,slope_train))"
   ]
  },
  {
   "source": [
    "11. Instead of using ‘sqft_living’ to estimate prices we could use ‘bedrooms’ (a count of the number of bedrooms in the house) to estimate prices. Using your function from (3) calculate the Simple Linear Regression slope and intercept for estimating price based on bedrooms. Save this slope and intercept for later (you might want to call them e.g. bedroom_slope, bedroom_intercept)."
   ],
   "cell_type": "markdown",
   "metadata": {}
  }
 ]
}