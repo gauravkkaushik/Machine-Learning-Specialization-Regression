{
 "metadata": {
  "language_info": {
   "codemirror_mode": {
    "name": "ipython",
    "version": 3
   },
   "file_extension": ".py",
   "mimetype": "text/x-python",
   "name": "python",
   "nbconvert_exporter": "python",
   "pygments_lexer": "ipython3",
   "version": "3.8.5-final"
  },
  "orig_nbformat": 2,
  "kernelspec": {
   "name": "python361064bitnwtrainingconda74d47481c05b4b65b55e5e7fa426d0c3",
   "display_name": "Python 3.6.10 64-bit ('nw_training': conda)",
   "language": "python"
  }
 },
 "nbformat": 4,
 "nbformat_minor": 2,
 "cells": [
  {
   "source": [
    "### Import Libraries"
   ],
   "cell_type": "markdown",
   "metadata": {}
  },
  {
   "cell_type": "code",
   "execution_count": 41,
   "metadata": {},
   "outputs": [],
   "source": [
    "import pandas as pd\n",
    "import numpy as np"
   ]
  },
  {
   "source": [
    "#### Import dataset\n",
    "\n",
    "For those students not using Turi Create please download the training and testing data csv files."
   ],
   "cell_type": "markdown",
   "metadata": {}
  },
  {
   "cell_type": "code",
   "execution_count": 42,
   "metadata": {},
   "outputs": [],
   "source": [
    "dtype_dict = {'bathrooms':float, 'waterfront':int, 'sqft_above':int, 'sqft_living15':float, 'grade':int, 'yr_renovated':int, 'price':float, 'bedrooms':float, 'zipcode':str, 'long':float, 'sqft_lot15':float, 'sqft_living':float, 'floors':str, 'condition':int, 'lat':float, 'date':str, 'sqft_basement':int, 'yr_built':int, 'id':str, 'sqft_lot':int, 'view':int}\n",
    "\n",
    "house_data = pd.read_csv(filepath_or_buffer= './data/kc_house_data.csv', dtype = dtype_dict)  \n",
    "train_data = pd.read_csv('./data/kc_house_train_data.csv', dtype = dtype_dict)  \n",
    "test_data = pd.read_csv('./data/kc_house_test_data.csv', dtype = dtype_dict)  "
   ]
  },
  {
   "cell_type": "code",
   "execution_count": 43,
   "metadata": {},
   "outputs": [
    {
     "output_type": "stream",
     "name": "stdout",
     "text": [
      "<class 'pandas.core.frame.DataFrame'>\nRangeIndex: 21613 entries, 0 to 21612\nData columns (total 21 columns):\n #   Column         Non-Null Count  Dtype  \n---  ------         --------------  -----  \n 0   id             21613 non-null  object \n 1   date           21613 non-null  object \n 2   price          21613 non-null  float64\n 3   bedrooms       21613 non-null  float64\n 4   bathrooms      21613 non-null  float64\n 5   sqft_living    21613 non-null  float64\n 6   sqft_lot       21613 non-null  int32  \n 7   floors         21613 non-null  object \n 8   waterfront     21613 non-null  int32  \n 9   view           21613 non-null  int32  \n 10  condition      21613 non-null  int32  \n 11  grade          21613 non-null  int32  \n 12  sqft_above     21613 non-null  int32  \n 13  sqft_basement  21613 non-null  int32  \n 14  yr_built       21613 non-null  int32  \n 15  yr_renovated   21613 non-null  int32  \n 16  zipcode        21613 non-null  object \n 17  lat            21613 non-null  float64\n 18  long           21613 non-null  float64\n 19  sqft_living15  21613 non-null  float64\n 20  sqft_lot15     21613 non-null  float64\ndtypes: float64(8), int32(9), object(4)\nmemory usage: 2.7+ MB\n"
     ]
    }
   ],
   "source": [
    "house_data.info(verbose = True)"
   ]
  },
  {
   "cell_type": "code",
   "execution_count": 44,
   "metadata": {},
   "outputs": [
    {
     "output_type": "stream",
     "name": "stdout",
     "text": [
      "<class 'pandas.core.frame.DataFrame'>\nRangeIndex: 17384 entries, 0 to 17383\nData columns (total 21 columns):\n #   Column         Non-Null Count  Dtype  \n---  ------         --------------  -----  \n 0   id             17384 non-null  object \n 1   date           17384 non-null  object \n 2   price          17384 non-null  float64\n 3   bedrooms       17384 non-null  float64\n 4   bathrooms      17384 non-null  float64\n 5   sqft_living    17384 non-null  float64\n 6   sqft_lot       17384 non-null  int32  \n 7   floors         17384 non-null  object \n 8   waterfront     17384 non-null  int32  \n 9   view           17384 non-null  int32  \n 10  condition      17384 non-null  int32  \n 11  grade          17384 non-null  int32  \n 12  sqft_above     17384 non-null  int32  \n 13  sqft_basement  17384 non-null  int32  \n 14  yr_built       17384 non-null  int32  \n 15  yr_renovated   17384 non-null  int32  \n 16  zipcode        17384 non-null  object \n 17  lat            17384 non-null  float64\n 18  long           17384 non-null  float64\n 19  sqft_living15  17384 non-null  float64\n 20  sqft_lot15     17384 non-null  float64\ndtypes: float64(8), int32(9), object(4)\nmemory usage: 2.2+ MB\n"
     ]
    }
   ],
   "source": [
    "train_data.info(verbose = True)"
   ]
  },
  {
   "cell_type": "code",
   "execution_count": 45,
   "metadata": {},
   "outputs": [
    {
     "output_type": "stream",
     "name": "stdout",
     "text": [
      "<class 'pandas.core.frame.DataFrame'>\nRangeIndex: 4229 entries, 0 to 4228\nData columns (total 21 columns):\n #   Column         Non-Null Count  Dtype  \n---  ------         --------------  -----  \n 0   id             4229 non-null   object \n 1   date           4229 non-null   object \n 2   price          4229 non-null   float64\n 3   bedrooms       4229 non-null   float64\n 4   bathrooms      4229 non-null   float64\n 5   sqft_living    4229 non-null   float64\n 6   sqft_lot       4229 non-null   int32  \n 7   floors         4229 non-null   object \n 8   waterfront     4229 non-null   int32  \n 9   view           4229 non-null   int32  \n 10  condition      4229 non-null   int32  \n 11  grade          4229 non-null   int32  \n 12  sqft_above     4229 non-null   int32  \n 13  sqft_basement  4229 non-null   int32  \n 14  yr_built       4229 non-null   int32  \n 15  yr_renovated   4229 non-null   int32  \n 16  zipcode        4229 non-null   object \n 17  lat            4229 non-null   float64\n 18  long           4229 non-null   float64\n 19  sqft_living15  4229 non-null   float64\n 20  sqft_lot15     4229 non-null   float64\ndtypes: float64(8), int32(9), object(4)\nmemory usage: 545.3+ KB\n"
     ]
    }
   ],
   "source": [
    "test_data.info(verbose = True)"
   ]
  },
  {
   "source": [
    "3. Write a generic function that accepts a column of data (e.g, an SArray) ‘input_feature’ and another column ‘output’ and returns the Simple Linear Regression parameters ‘intercept’ and ‘slope’.\n",
    "\n",
    "Use the closed form solution from lecture to calculate the slope and intercept. e.g. in python:\\\n",
    "\n",
    "We want the line that “best fits” this data set as measured by residual sum of squares -- the simple linear regression cost. We have a closed form solution that involves the following terms:\n",
    "\n",
    "1. The number of data points (N)\n",
    "2. The sum (or mean) of the Ys\n",
    "3. The sum (or mean) of the Xs\n",
    "4. The sum (or mean) of the product of the Xs and the Ys\n",
    "5. The sum (or mean) of the Xs squared\n",
    "\n",
    "\n",
    "Then once we have calculated all of these terms, we can use the formulas to compute the slope and intercept. Recall that we first solve for the slope and then we use the value of the slope to solve for the intercept.  The formula for the slope is a fraction with:\n",
    "\n",
    "- numerator = (sum of X*Y) - (1/N)*((sum of X) * (sum of Y))\n",
    "- denominator = (sum of X^2) - (1/N)*((sum of X) * (sum of X))\n",
    "\n",
    "Note that you can divide both the numerator and denominator by N (which doesn’t change the answer!) to get:\n",
    "- numerator = (mean of X \\* Y) - (mean of X)*(mean of Y)\n",
    "- denominator = (mean of X^2) - (mean of X)*(mean of X)"
   ],
   "cell_type": "markdown",
   "metadata": {}
  },
  {
   "cell_type": "code",
   "execution_count": 46,
   "metadata": {},
   "outputs": [],
   "source": [
    "# numerator = (mean of X * Y) - (mean of X)*(mean of Y)\n",
    "# denominator = (mean of X^2) - (mean of X)*(mean of X)\n",
    "# slope = numerator / denominator\n",
    "# intercept = (mean of Y) - slope * (mean of X)\n",
    "\n",
    "def simple_linear_regression(input_feature, output):\n",
    "    numerator = (input_feature * output).mean(axis = 0)\n",
    "    denominator = (input_feature**2).mean(axis = 0) - (input_feature.mean(axis = 0)*output.mean(axis= 0))\n",
    "    slope = numerator/denominator\n",
    "    intercept = output.mean(axis = 0) - slope * input_feature.mean(axis = 0)\n",
    "    return(intercept, slope)\n"
   ]
  },
  {
   "source": [
    "4. Use your function to calculate the estimated slope and intercept on the training data to predict ‘price’ given ‘sqft_living’.\n",
    "\n",
    "save the value of the slope and intercept for later (you might want to call them e.g. squarfeet_slope, and squarefeet_intercept)"
   ],
   "cell_type": "markdown",
   "metadata": {}
  },
  {
   "source": [
    "input_feature = train_data['sqft_living']\n",
    "output = train_data['price']"
   ],
   "cell_type": "code",
   "metadata": {},
   "execution_count": 47,
   "outputs": []
  },
  {
   "source": [
    "intercept_train, slope_train = simple_linear_regression(input_feature, output)"
   ],
   "cell_type": "code",
   "metadata": {},
   "execution_count": 48,
   "outputs": []
  },
  {
   "source": [
    "5. Write a function that accepts a column of data ‘input_feature’, the ‘slope’, and the ‘intercept’ you learned, and returns an a column of predictions ‘predicted_output’ for each entry in the input column. e.g. in python:"
   ],
   "cell_type": "markdown",
   "metadata": {}
  },
  {
   "cell_type": "code",
   "execution_count": 49,
   "metadata": {},
   "outputs": [],
   "source": [
    "def get_regression_predictions(input_feature, intercept, slope):\n",
    "    predicted_output = slope * input_feature + intercept\n",
    "    return(predicted_output)"
   ]
  },
  {
   "source": [
    "6. Quiz Question: Using your Slope and Intercept from (4), What is the predicted price for a house with 2650 sqft?"
   ],
   "cell_type": "markdown",
   "metadata": {}
  },
  {
   "cell_type": "code",
   "execution_count": 50,
   "metadata": {},
   "outputs": [
    {
     "output_type": "stream",
     "name": "stdout",
     "text": [
      "538671.7845668467\n"
     ]
    }
   ],
   "source": [
    "input_feature = 2650\n",
    "print(get_regression_predictions(2650, intercept_train, slope_train))"
   ]
  },
  {
   "source": [
    "7. Write a function that accepts column of data: ‘input_feature’, and ‘output’ and the regression parameters ‘slope’ and ‘intercept’  and outputs the Residual Sum of Squares (RSS). e.g. in python:"
   ],
   "cell_type": "markdown",
   "metadata": {}
  },
  {
   "cell_type": "code",
   "execution_count": 53,
   "metadata": {},
   "outputs": [],
   "source": [
    "def get_residual_sum_of_squares(input_feature, output, intercept,slope):\n",
    "    RSS = (((slope * input_feature + intercept) - output)**2).sum(axis = 0)\n",
    "    return(RSS)"
   ]
  },
  {
   "cell_type": "code",
   "execution_count": 55,
   "metadata": {},
   "outputs": [
    {
     "output_type": "stream",
     "name": "stdout",
     "text": [
      "2375770254889483.0\n"
     ]
    }
   ],
   "source": [
    "print(get_residual_sum_of_squares(input_feature,output,intercept_train,slope_train))"
   ]
  },
  {
   "source": [
    "Recall that the RSS is the sum of the squares of the prediction errors (difference between output and prediction). "
   ],
   "cell_type": "markdown",
   "metadata": {}
  },
  {
   "source": [
    "8. Quiz Question: According to this function and the slope and intercept from (4) What is the RSS for the simple linear regression using squarefeet to predict prices on TRAINING data?"
   ],
   "cell_type": "markdown",
   "metadata": {}
  },
  {
   "source": [
    "9. Note that although we estimated the regression slope and intercept in order to predict the output from the input, since this is a simple linear relationship with only two variables we can invert the linear function to estimate the input given the output!"
   ],
   "cell_type": "markdown",
   "metadata": {}
  },
  {
   "source": [
    "Write a function that accept a column of data:‘output’ and the regression parameters ‘slope’ and ‘intercept’ and outputs the column of data: ‘estimated_input’. Do this by solving the linear function output = intercept + slope*input for the ‘input’ variable (i.e. ‘input’ should be on one side of the equals sign by itself). e.g. in python"
   ],
   "cell_type": "markdown",
   "metadata": {}
  },
  {
   "cell_type": "code",
   "execution_count": null,
   "metadata": {},
   "outputs": [],
   "source": [
    "# def inverse_regression_predictions(output, intercept, slope):\n",
    "#     [your code here]\n",
    "# return(estimated_input)"
   ]
  },
  {
   "source": [
    "10. Quiz Question: According to this function and the regression slope and intercept from (3) what is the estimated square-feet for a house costing $800,000?"
   ],
   "cell_type": "markdown",
   "metadata": {}
  },
  {
   "source": [
    "11. Instead of using ‘sqft_living’ to estimate prices we could use ‘bedrooms’ (a count of the number of bedrooms in the house) to estimate prices. Using your function from (3) calculate the Simple Linear Regression slope and intercept for estimating price based on bedrooms. Save this slope and intercept for later (you might want to call them e.g. bedroom_slope, bedroom_intercept)."
   ],
   "cell_type": "markdown",
   "metadata": {}
  },
  {
   "source": [
    "12. Now that we have 2 different models compute the RSS from BOTH models on TEST data."
   ],
   "cell_type": "markdown",
   "metadata": {}
  },
  {
   "source": [
    "13. Quiz Question: Which model (square feet or bedrooms) has lowest RSS on TEST data? Think about why this might be the case"
   ],
   "cell_type": "markdown",
   "metadata": {}
  }
 ]
}