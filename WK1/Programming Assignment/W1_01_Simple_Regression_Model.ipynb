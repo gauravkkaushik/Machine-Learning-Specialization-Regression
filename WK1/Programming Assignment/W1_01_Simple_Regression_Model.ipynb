{
 "metadata": {
  "language_info": {
   "codemirror_mode": {
    "name": "ipython",
    "version": 3
   },
   "file_extension": ".py",
   "mimetype": "text/x-python",
   "name": "python",
   "nbconvert_exporter": "python",
   "pygments_lexer": "ipython3",
   "version": "3.8.5-final"
  },
  "orig_nbformat": 2,
  "kernelspec": {
   "name": "python361064bitnwtrainingconda74d47481c05b4b65b55e5e7fa426d0c3",
   "display_name": "Python 3.6.10 64-bit ('nw_training': conda)",
   "language": "python"
  }
 },
 "nbformat": 4,
 "nbformat_minor": 2,
 "cells": [
  {
   "source": [
    "### Import Libraries"
   ],
   "cell_type": "markdown",
   "metadata": {}
  },
  {
   "cell_type": "code",
   "execution_count": 3,
   "metadata": {},
   "outputs": [],
   "source": [
    "import pandas as pd\n",
    "import numpy as np"
   ]
  },
  {
   "source": [
    "#### Import dataset\n",
    "\n",
    "For those students not using Turi Create please download the training and testing data csv files."
   ],
   "cell_type": "markdown",
   "metadata": {}
  },
  {
   "cell_type": "code",
   "execution_count": 7,
   "metadata": {},
   "outputs": [],
   "source": [
    "dtype_dict = {'bathrooms':float, 'waterfront':int, 'sqft_above':int, 'sqft_living15':float, 'grade':int, 'yr_renovated':int, 'price':float, 'bedrooms':float, 'zipcode':str, 'long':float, 'sqft_lot15':float, 'sqft_living':float, 'floors':str, 'condition':int, 'lat':float, 'date':str, 'sqft_basement':int, 'yr_built':int, 'id':str, 'sqft_lot':int, 'view':int}\n",
    "\n",
    "house_data = pd.read_csv(filepath_or_buffer= './data/kc_house_data.csv', dtype = dtype_dict)  \n",
    "train_data = pd.read_csv('./data/kc_house_train_data.csv', dtype = dtype_dict)  \n",
    "test_data = pd.read_csv('./data/kc_house_test_data.csv', dtype = dtype_dict)  "
   ]
  },
  {
   "cell_type": "code",
   "execution_count": 9,
   "metadata": {},
   "outputs": [
    {
     "output_type": "stream",
     "name": "stdout",
     "text": [
      "<class 'pandas.core.frame.DataFrame'>\nRangeIndex: 21613 entries, 0 to 21612\nData columns (total 21 columns):\n #   Column         Non-Null Count  Dtype  \n---  ------         --------------  -----  \n 0   id             21613 non-null  object \n 1   date           21613 non-null  object \n 2   price          21613 non-null  float64\n 3   bedrooms       21613 non-null  float64\n 4   bathrooms      21613 non-null  float64\n 5   sqft_living    21613 non-null  float64\n 6   sqft_lot       21613 non-null  int32  \n 7   floors         21613 non-null  object \n 8   waterfront     21613 non-null  int32  \n 9   view           21613 non-null  int32  \n 10  condition      21613 non-null  int32  \n 11  grade          21613 non-null  int32  \n 12  sqft_above     21613 non-null  int32  \n 13  sqft_basement  21613 non-null  int32  \n 14  yr_built       21613 non-null  int32  \n 15  yr_renovated   21613 non-null  int32  \n 16  zipcode        21613 non-null  object \n 17  lat            21613 non-null  float64\n 18  long           21613 non-null  float64\n 19  sqft_living15  21613 non-null  float64\n 20  sqft_lot15     21613 non-null  float64\ndtypes: float64(8), int32(9), object(4)\nmemory usage: 2.7+ MB\n"
     ]
    }
   ],
   "source": [
    "house_data.info(verbose = True)"
   ]
  },
  {
   "cell_type": "code",
   "execution_count": 10,
   "metadata": {},
   "outputs": [
    {
     "output_type": "stream",
     "name": "stdout",
     "text": [
      "<class 'pandas.core.frame.DataFrame'>\nRangeIndex: 17384 entries, 0 to 17383\nData columns (total 21 columns):\n #   Column         Non-Null Count  Dtype  \n---  ------         --------------  -----  \n 0   id             17384 non-null  object \n 1   date           17384 non-null  object \n 2   price          17384 non-null  float64\n 3   bedrooms       17384 non-null  float64\n 4   bathrooms      17384 non-null  float64\n 5   sqft_living    17384 non-null  float64\n 6   sqft_lot       17384 non-null  int32  \n 7   floors         17384 non-null  object \n 8   waterfront     17384 non-null  int32  \n 9   view           17384 non-null  int32  \n 10  condition      17384 non-null  int32  \n 11  grade          17384 non-null  int32  \n 12  sqft_above     17384 non-null  int32  \n 13  sqft_basement  17384 non-null  int32  \n 14  yr_built       17384 non-null  int32  \n 15  yr_renovated   17384 non-null  int32  \n 16  zipcode        17384 non-null  object \n 17  lat            17384 non-null  float64\n 18  long           17384 non-null  float64\n 19  sqft_living15  17384 non-null  float64\n 20  sqft_lot15     17384 non-null  float64\ndtypes: float64(8), int32(9), object(4)\nmemory usage: 2.2+ MB\n"
     ]
    }
   ],
   "source": [
    "train_data.info(verbose = True)"
   ]
  },
  {
   "cell_type": "code",
   "execution_count": 11,
   "metadata": {},
   "outputs": [
    {
     "output_type": "stream",
     "name": "stdout",
     "text": [
      "<class 'pandas.core.frame.DataFrame'>\nRangeIndex: 4229 entries, 0 to 4228\nData columns (total 21 columns):\n #   Column         Non-Null Count  Dtype  \n---  ------         --------------  -----  \n 0   id             4229 non-null   object \n 1   date           4229 non-null   object \n 2   price          4229 non-null   float64\n 3   bedrooms       4229 non-null   float64\n 4   bathrooms      4229 non-null   float64\n 5   sqft_living    4229 non-null   float64\n 6   sqft_lot       4229 non-null   int32  \n 7   floors         4229 non-null   object \n 8   waterfront     4229 non-null   int32  \n 9   view           4229 non-null   int32  \n 10  condition      4229 non-null   int32  \n 11  grade          4229 non-null   int32  \n 12  sqft_above     4229 non-null   int32  \n 13  sqft_basement  4229 non-null   int32  \n 14  yr_built       4229 non-null   int32  \n 15  yr_renovated   4229 non-null   int32  \n 16  zipcode        4229 non-null   object \n 17  lat            4229 non-null   float64\n 18  long           4229 non-null   float64\n 19  sqft_living15  4229 non-null   float64\n 20  sqft_lot15     4229 non-null   float64\ndtypes: float64(8), int32(9), object(4)\nmemory usage: 545.3+ KB\n"
     ]
    }
   ],
   "source": [
    "test_data.info(verbose = True)"
   ]
  },
  {
   "source": [
    "3. Write a generic function that accepts a column of data (e.g, an SArray) ‘input_feature’ and another column ‘output’ and returns the Simple Linear Regression parameters ‘intercept’ and ‘slope’.\n",
    "\n",
    "Use the closed form solution from lecture to calculate the slope and intercept. e.g. in python:"
   ],
   "cell_type": "markdown",
   "metadata": {}
  },
  {
   "cell_type": "code",
   "execution_count": null,
   "metadata": {},
   "outputs": [],
   "source": [
    "# def simple_linear_regression(input_feature, output):\n",
    "#     [your code here]\n",
    "# return(intercept, slope)"
   ]
  },
  {
   "source": [
    "4. Use your function to calculate the estimated slope and intercept on the training data to predict ‘price’ given ‘sqft_living’.\n",
    "\n",
    "save the value of the slope and intercept for later (you might want to call them e.g. squarfeet_slope, and squarefeet_intercept)"
   ],
   "cell_type": "markdown",
   "metadata": {}
  },
  {
   "source": [
    "# input_feature = train_data[‘sqft_living’]\n",
    "# output = train_data[‘price’]"
   ],
   "cell_type": "code",
   "metadata": {},
   "execution_count": null,
   "outputs": []
  },
  {
   "source": [
    "5. Write a function that accepts a column of data ‘input_feature’, the ‘slope’, and the ‘intercept’ you learned, and returns an a column of predictions ‘predicted_output’ for each entry in the input column. e.g. in python:"
   ],
   "cell_type": "markdown",
   "metadata": {}
  },
  {
   "cell_type": "code",
   "execution_count": null,
   "metadata": {},
   "outputs": [],
   "source": [
    "# def get_regression_predictions(input_feature, intercept, slope)\n",
    "#     [your code here]\n",
    "# return(predicted_output)"
   ]
  },
  {
   "source": [
    "6. Quiz Question: Using your Slope and Intercept from (4), What is the predicted price for a house with 2650 sqft?"
   ],
   "cell_type": "markdown",
   "metadata": {}
  },
  {
   "source": [
    "7. Write a function that accepts column of data: ‘input_feature’, and ‘output’ and the regression parameters ‘slope’ and ‘intercept’  and outputs the Residual Sum of Squares (RSS). e.g. in python:"
   ],
   "cell_type": "markdown",
   "metadata": {}
  },
  {
   "cell_type": "code",
   "execution_count": 13,
   "metadata": {},
   "outputs": [
    {
     "output_type": "error",
     "ename": "SyntaxError",
     "evalue": "invalid syntax (<ipython-input-13-bc22c60e06c9>, line 2)",
     "traceback": [
      "\u001b[1;36m  File \u001b[1;32m\"<ipython-input-13-bc22c60e06c9>\"\u001b[1;36m, line \u001b[1;32m2\u001b[0m\n\u001b[1;33m    [your code here]\u001b[0m\n\u001b[1;37m          ^\u001b[0m\n\u001b[1;31mSyntaxError\u001b[0m\u001b[1;31m:\u001b[0m invalid syntax\n"
     ]
    }
   ],
   "source": [
    "# def get_residual_sum_of_squares(input_feature, output, intercept,slope):\n",
    "#     [your code here]\n",
    "# return(RSS)"
   ]
  },
  {
   "source": [
    "Recall that the RSS is the sum of the squares of the prediction errors (difference between output and prediction). "
   ],
   "cell_type": "markdown",
   "metadata": {}
  },
  {
   "source": [
    "8. Quiz Question: According to this function and the slope and intercept from (4) What is the RSS for the simple linear regression using squarefeet to predict prices on TRAINING data?"
   ],
   "cell_type": "markdown",
   "metadata": {}
  },
  {
   "source": [
    "9. Note that although we estimated the regression slope and intercept in order to predict the output from the input, since this is a simple linear relationship with only two variables we can invert the linear function to estimate the input given the output!"
   ],
   "cell_type": "markdown",
   "metadata": {}
  },
  {
   "source": [
    "Write a function that accept a column of data:‘output’ and the regression parameters ‘slope’ and ‘intercept’ and outputs the column of data: ‘estimated_input’. Do this by solving the linear function output = intercept + slope*input for the ‘input’ variable (i.e. ‘input’ should be on one side of the equals sign by itself). e.g. in python"
   ],
   "cell_type": "markdown",
   "metadata": {}
  },
  {
   "cell_type": "code",
   "execution_count": null,
   "metadata": {},
   "outputs": [],
   "source": [
    "# def inverse_regression_predictions(output, intercept, slope):\n",
    "#     [your code here]\n",
    "# return(estimated_input)"
   ]
  },
  {
   "source": [
    "10. Quiz Question: According to this function and the regression slope and intercept from (3) what is the estimated square-feet for a house costing $800,000?"
   ],
   "cell_type": "markdown",
   "metadata": {}
  },
  {
   "source": [
    "11. Instead of using ‘sqft_living’ to estimate prices we could use ‘bedrooms’ (a count of the number of bedrooms in the house) to estimate prices. Using your function from (3) calculate the Simple Linear Regression slope and intercept for estimating price based on bedrooms. Save this slope and intercept for later (you might want to call them e.g. bedroom_slope, bedroom_intercept)."
   ],
   "cell_type": "markdown",
   "metadata": {}
  },
  {
   "source": [
    "12. Now that we have 2 different models compute the RSS from BOTH models on TEST data."
   ],
   "cell_type": "markdown",
   "metadata": {}
  },
  {
   "source": [
    "13. Quiz Question: Which model (square feet or bedrooms) has lowest RSS on TEST data? Think about why this might be the case"
   ],
   "cell_type": "markdown",
   "metadata": {}
  }
 ]
}